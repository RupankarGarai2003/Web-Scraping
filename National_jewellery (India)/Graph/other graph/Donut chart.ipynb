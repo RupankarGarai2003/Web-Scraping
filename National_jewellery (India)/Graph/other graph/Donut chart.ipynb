{
 "cells": [
  {
   "cell_type": "code",
   "execution_count": 1,
   "metadata": {},
   "outputs": [],
   "source": [
    "import os\n",
    "import csv\n",
    "import pandas as pd\n",
    "import re"
   ]
  },
  {
   "cell_type": "code",
   "execution_count": 2,
   "metadata": {},
   "outputs": [],
   "source": [
    "file_paths = [\"./bhimagold.csv\", \"./bluestone.csv\", \"./chennaidiamonds.csv\",\"./joyalukkas.csv\", \"./KushalsFashionJewellery.csv\",\"./mellora.csv\",\"./pcjeweller.csv\",\"./pngjewellers.csv\",\"./sencogoldanddiamonds.csv\"]"
   ]
  },
  {
   "cell_type": "code",
   "execution_count": 3,
   "metadata": {},
   "outputs": [],
   "source": [
    "def sum_value(pattern):\n",
    "    # Initialize sum variable\n",
    "    total_sum = 0\n",
    "\n",
    "    # Iterate over file paths\n",
    "    for file in file_paths:\n",
    "        # Read CSV file\n",
    "        df = pd.read_csv(file, header=None)\n",
    "        \n",
    "        # Filter rows that match the pattern\n",
    "        matching_rows = df[df.apply(lambda row: any(pattern.search(str(value)) for value in row.values), axis=1)]\n",
    "        \n",
    "        # Sum values from the second column of matching rows\n",
    "        if not matching_rows.empty:\n",
    "            sum_values = matching_rows.iloc[:, 1].astype(float).sum()  # Convert values to float and sum\n",
    "            print(f\"Sum of values in {file}: {sum_values}\")\n",
    "            total_sum += sum_values\n",
    "    return total_sum\n",
    "            "
   ]
  },
  {
   "cell_type": "code",
   "execution_count": 4,
   "metadata": {},
   "outputs": [
    {
     "name": "stdout",
     "output_type": "stream",
     "text": [
      "Sum of values in ./bluestone.csv: 308.0\n",
      "Sum of values in ./chennaidiamonds.csv: 17.0\n",
      "Sum of values in ./joyalukkas.csv: 997.0\n",
      "Sum of values in ./KushalsFashionJewellery.csv: 453.0\n",
      "Sum of values in ./mellora.csv: 1.0\n",
      "Sum of values in ./pcjeweller.csv: 363.0\n",
      "Sum of values in ./sencogoldanddiamonds.csv: 215.0\n",
      "\n",
      " Total Men's rings national: 2354.0\n"
     ]
    }
   ],
   "source": [
    "\n",
    "# Define a regular expression pattern to match variations of strings related to men's rings\n",
    "pattern_men_rings = re.compile(r\"\\b(?:Men's Rings|Total_Rings_for_men|Men_rings)\\b\", flags=re.IGNORECASE)\n",
    "\n",
    "\n",
    "\n",
    "# Calculate the total sum of values\n",
    "total_sum_rings= sum_value(pattern_men_rings)\n",
    "\n",
    "# Print total sum\n",
    "print(f\"\\n Total Men's rings national: {total_sum_rings}\")\n",
    "\n"
   ]
  },
  {
   "cell_type": "code",
   "execution_count": 5,
   "metadata": {},
   "outputs": [
    {
     "name": "stdout",
     "output_type": "stream",
     "text": [
      "Sum of values in ./bluestone.csv: 1856.0\n",
      "Sum of values in ./chennaidiamonds.csv: 73.0\n",
      "Sum of values in ./joyalukkas.csv: 989.0\n",
      "Sum of values in ./KushalsFashionJewellery.csv: 768.0\n",
      "Sum of values in ./mellora.csv: 4380.0\n",
      "Sum of values in ./pcjeweller.csv: 2269.0\n",
      "Sum of values in ./sencogoldanddiamonds.csv: 30.0\n",
      "\n",
      " Total Women's Ring national: 10365.0\n"
     ]
    }
   ],
   "source": [
    "# Define a regular expression pattern to match variations of strings related to men's rings\n",
    "pattern_women_rings= re.compile(r\"\\b(?:Women's Rings|Women_Rings|Women_rings)\\b\", flags=re.IGNORECASE)\n",
    "\n",
    "total_sum_ringsw=sum_value(pattern_women_rings)\n",
    "# Print total sum\n",
    "print(f\"\\n Total Women's Ring national: {total_sum_ringsw}\")"
   ]
  },
  {
   "cell_type": "code",
   "execution_count": 6,
   "metadata": {},
   "outputs": [
    {
     "name": "stdout",
     "output_type": "stream",
     "text": [
      "Sum of values in ./bluestone.csv: 73.0\n",
      "Sum of values in ./chennaidiamonds.csv: 18.0\n",
      "Sum of values in ./joyalukkas.csv: 1044.0\n",
      "Sum of values in ./KushalsFashionJewellery.csv: 2239.0\n",
      "Sum of values in ./mellora.csv: 31.0\n",
      "Sum of values in ./sencogoldanddiamonds.csv: 0.0\n",
      "\n",
      " Total Men's earring national: 3405.0\n"
     ]
    }
   ],
   "source": [
    "# Define a regular expression pattern to match variations of strings related to women's rings\n",
    "pattern_men_earrings = re.compile(r\"\\b(?:Men's Earring|Men_earrings)\\b\", flags=re.IGNORECASE)\n",
    "\n",
    "total_sum_earrings=sum_value(pattern_men_earrings)\n",
    "# Print total sum\n",
    "print(f\"\\n Total Men's earring national: {total_sum_earrings}\")"
   ]
  },
  {
   "cell_type": "code",
   "execution_count": 7,
   "metadata": {},
   "outputs": [
    {
     "name": "stdout",
     "output_type": "stream",
     "text": [
      "Sum of values in ./bluestone.csv: 2095.0\n",
      "Sum of values in ./chennaidiamonds.csv: 73.0\n",
      "Sum of values in ./joyalukkas.csv: 1036.0\n",
      "Sum of values in ./KushalsFashionJewellery.csv: 2554.0\n",
      "Sum of values in ./mellora.csv: 5239.0\n",
      "Sum of values in ./sencogoldanddiamonds.csv: 26.0\n",
      "\n",
      " Total Men's earring national: 11023.0\n"
     ]
    }
   ],
   "source": [
    "# Define a regular expression pattern to match variations of strings related to women's rings\n",
    "pattern_women_earrings = re.compile(r\"\\b(?:Women's Earring|Women_earrings)\\b\", flags=re.IGNORECASE)\n",
    "\n",
    "total_sum_earringsw=sum_value(pattern_women_earrings)\n",
    "# Print total sum\n",
    "print(f\"\\n Total Men's earring national: {total_sum_earringsw}\")"
   ]
  },
  {
   "cell_type": "code",
   "execution_count": 8,
   "metadata": {},
   "outputs": [
    {
     "name": "stdout",
     "output_type": "stream",
     "text": [
      "Sum of values in ./bluestone.csv: 15.0\n",
      "Sum of values in ./chennaidiamonds.csv: 96.0\n",
      "Sum of values in ./joyalukkas.csv: 381.0\n",
      "Sum of values in ./KushalsFashionJewellery.csv: 2289.0\n",
      "Sum of values in ./mellora.csv: 11.0\n",
      "Sum of values in ./pngjewellers.csv: 0.0\n",
      "Sum of values in ./sencogoldanddiamonds.csv: 80.0\n",
      "\n",
      " Total Men's necklaces and pendants national: 2872.0\n"
     ]
    }
   ],
   "source": [
    "# Define a regular expression pattern to match variations of strings related to men's necklaces and pendants\n",
    "pattern_men_necklaces = re.compile(r\"\\b(?:Men's Necklaces|Male's Necklaces|Necklaces_and_Pendants_for_Men)\\b\", flags=re.IGNORECASE)\n",
    "\n",
    "total_sum_necklace=sum_value(pattern_men_necklaces)\n",
    "# Print total sum\n",
    "print(f\"\\n Total Men's necklaces and pendants national: {total_sum_necklace}\")"
   ]
  },
  {
   "cell_type": "code",
   "execution_count": 9,
   "metadata": {},
   "outputs": [
    {
     "name": "stdout",
     "output_type": "stream",
     "text": [
      "Sum of values in ./bluestone.csv: 485.0\n",
      "Sum of values in ./chennaidiamonds.csv: 105.0\n",
      "Sum of values in ./joyalukkas.csv: 187.0\n",
      "Sum of values in ./KushalsFashionJewellery.csv: 5.0\n",
      "Sum of values in ./mellora.csv: 1924.0\n",
      "Sum of values in ./pngjewellers.csv: 0.0\n",
      "Sum of values in ./sencogoldanddiamonds.csv: 91.0\n",
      "\n",
      " Total Women's necklaces and pendants national: 2797.0\n"
     ]
    }
   ],
   "source": [
    "# Define a regular expression pattern to match variations of strings related to women's necklaces and pendants\n",
    "pattern_women_necklaces = re.compile(r\"\\b(?:Women's Necklaces|female's Necklaces|Necklaces_and_Pendants_for_women)\\b\", flags=re.IGNORECASE)\n",
    "\n",
    "total_sum_necklacew=sum_value(pattern_women_necklaces)\n",
    "# Print total sum\n",
    "print(f\"\\n Total Women's necklaces and pendants national: {total_sum_necklacew}\")"
   ]
  },
  {
   "cell_type": "code",
   "execution_count": 10,
   "metadata": {},
   "outputs": [
    {
     "name": "stdout",
     "output_type": "stream",
     "text": [
      "Sum of values in ./bluestone.csv: 62.0\n",
      "Sum of values in ./chennaidiamonds.csv: 68.0\n",
      "Sum of values in ./joyalukkas.csv: 599.0\n",
      "Sum of values in ./KushalsFashionJewellery.csv: 284.0\n",
      "Sum of values in ./mellora.csv: 46.0\n",
      "Sum of values in ./sencogoldanddiamonds.csv: 151.0\n",
      "\n",
      " Total Men's bracelets national: 1210.0\n"
     ]
    }
   ],
   "source": [
    "pattern_men_bracelets = re.compile(r\"\\b(?:Men's Bracelets|Male's Bracelets|Total_no_of_Men_Bracelets)\\b\", flags=re.IGNORECASE)\n",
    "\n",
    "total_sum_bracelet=sum_value(pattern_men_bracelets)\n",
    "# Print total sum\n",
    "print(f\"\\n Total Men's bracelets national: {total_sum_bracelet}\")"
   ]
  },
  {
   "cell_type": "code",
   "execution_count": 11,
   "metadata": {},
   "outputs": [
    {
     "name": "stdout",
     "output_type": "stream",
     "text": [
      "Sum of values in ./bluestone.csv: 401.0\n",
      "Sum of values in ./chennaidiamonds.csv: 80.0\n",
      "Sum of values in ./joyalukkas.csv: 296.0\n",
      "Sum of values in ./KushalsFashionJewellery.csv: 551.0\n",
      "Sum of values in ./mellora.csv: 1926.0\n",
      "Sum of values in ./sencogoldanddiamonds.csv: 43.0\n",
      "\n",
      " Total Women's bracelets national: 3297.0\n"
     ]
    }
   ],
   "source": [
    "pattern_women_bracelets = re.compile(r\"\\b(?:Women's Bracelets|Women_Bracelets)\\b\", flags=re.IGNORECASE)\n",
    "\n",
    "total_sum_braceletw=sum_value(pattern_women_bracelets)\n",
    "# Print total sum\n",
    "print(f\"\\n Total Women's bracelets national: {total_sum_braceletw}\")"
   ]
  },
  {
   "cell_type": "code",
   "execution_count": 12,
   "metadata": {},
   "outputs": [
    {
     "data": {
      "application/vnd.plotly.v1+json": {
       "config": {
        "plotlyServerURL": "https://plot.ly"
       },
       "data": [
        {
         "hole": 0.2,
         "hoverinfo": "label+percent+value+name",
         "labels": [
          "Rings",
          "Earrings",
          "Necklaces and Pendants",
          "Bracelets"
         ],
         "marker": {
          "colors": [
           "#1f77b4",
           "#ff7f0e",
           "#2ca02c",
           "#d62728"
          ],
          "line": {
           "color": "black",
           "width": 1
          }
         },
         "name": "Men",
         "textinfo": "percent+label+value",
         "type": "pie",
         "values": [
          2354,
          3405,
          2872,
          1210
         ]
        },
        {
         "hole": 0.6,
         "hoverinfo": "label+percent+value+name",
         "labels": [
          "Rings",
          "Earrings",
          "Necklaces and Pendants",
          "Bracelets"
         ],
         "marker": {
          "colors": [
           "#1f77b4",
           "#ff7f0e",
           "#2ca02c",
           "#d62728"
          ],
          "line": {
           "color": "black",
           "width": 1
          }
         },
         "name": "Women",
         "textinfo": "percent+label+value",
         "type": "pie",
         "values": [
          10365,
          11023,
          2797,
          3297
         ]
        }
       ],
       "layout": {
        "font": {
         "size": 12
        },
        "height": 500,
        "legend": {
         "title": {
          "text": "Gender"
         }
        },
        "margin": {
         "b": 20,
         "l": 20,
         "r": 20,
         "t": 10
        },
        "template": {
         "data": {
          "bar": [
           {
            "error_x": {
             "color": "#2a3f5f"
            },
            "error_y": {
             "color": "#2a3f5f"
            },
            "marker": {
             "line": {
              "color": "#E5ECF6",
              "width": 0.5
             },
             "pattern": {
              "fillmode": "overlay",
              "size": 10,
              "solidity": 0.2
             }
            },
            "type": "bar"
           }
          ],
          "barpolar": [
           {
            "marker": {
             "line": {
              "color": "#E5ECF6",
              "width": 0.5
             },
             "pattern": {
              "fillmode": "overlay",
              "size": 10,
              "solidity": 0.2
             }
            },
            "type": "barpolar"
           }
          ],
          "carpet": [
           {
            "aaxis": {
             "endlinecolor": "#2a3f5f",
             "gridcolor": "white",
             "linecolor": "white",
             "minorgridcolor": "white",
             "startlinecolor": "#2a3f5f"
            },
            "baxis": {
             "endlinecolor": "#2a3f5f",
             "gridcolor": "white",
             "linecolor": "white",
             "minorgridcolor": "white",
             "startlinecolor": "#2a3f5f"
            },
            "type": "carpet"
           }
          ],
          "choropleth": [
           {
            "colorbar": {
             "outlinewidth": 0,
             "ticks": ""
            },
            "type": "choropleth"
           }
          ],
          "contour": [
           {
            "colorbar": {
             "outlinewidth": 0,
             "ticks": ""
            },
            "colorscale": [
             [
              0,
              "#0d0887"
             ],
             [
              0.1111111111111111,
              "#46039f"
             ],
             [
              0.2222222222222222,
              "#7201a8"
             ],
             [
              0.3333333333333333,
              "#9c179e"
             ],
             [
              0.4444444444444444,
              "#bd3786"
             ],
             [
              0.5555555555555556,
              "#d8576b"
             ],
             [
              0.6666666666666666,
              "#ed7953"
             ],
             [
              0.7777777777777778,
              "#fb9f3a"
             ],
             [
              0.8888888888888888,
              "#fdca26"
             ],
             [
              1,
              "#f0f921"
             ]
            ],
            "type": "contour"
           }
          ],
          "contourcarpet": [
           {
            "colorbar": {
             "outlinewidth": 0,
             "ticks": ""
            },
            "type": "contourcarpet"
           }
          ],
          "heatmap": [
           {
            "colorbar": {
             "outlinewidth": 0,
             "ticks": ""
            },
            "colorscale": [
             [
              0,
              "#0d0887"
             ],
             [
              0.1111111111111111,
              "#46039f"
             ],
             [
              0.2222222222222222,
              "#7201a8"
             ],
             [
              0.3333333333333333,
              "#9c179e"
             ],
             [
              0.4444444444444444,
              "#bd3786"
             ],
             [
              0.5555555555555556,
              "#d8576b"
             ],
             [
              0.6666666666666666,
              "#ed7953"
             ],
             [
              0.7777777777777778,
              "#fb9f3a"
             ],
             [
              0.8888888888888888,
              "#fdca26"
             ],
             [
              1,
              "#f0f921"
             ]
            ],
            "type": "heatmap"
           }
          ],
          "heatmapgl": [
           {
            "colorbar": {
             "outlinewidth": 0,
             "ticks": ""
            },
            "colorscale": [
             [
              0,
              "#0d0887"
             ],
             [
              0.1111111111111111,
              "#46039f"
             ],
             [
              0.2222222222222222,
              "#7201a8"
             ],
             [
              0.3333333333333333,
              "#9c179e"
             ],
             [
              0.4444444444444444,
              "#bd3786"
             ],
             [
              0.5555555555555556,
              "#d8576b"
             ],
             [
              0.6666666666666666,
              "#ed7953"
             ],
             [
              0.7777777777777778,
              "#fb9f3a"
             ],
             [
              0.8888888888888888,
              "#fdca26"
             ],
             [
              1,
              "#f0f921"
             ]
            ],
            "type": "heatmapgl"
           }
          ],
          "histogram": [
           {
            "marker": {
             "pattern": {
              "fillmode": "overlay",
              "size": 10,
              "solidity": 0.2
             }
            },
            "type": "histogram"
           }
          ],
          "histogram2d": [
           {
            "colorbar": {
             "outlinewidth": 0,
             "ticks": ""
            },
            "colorscale": [
             [
              0,
              "#0d0887"
             ],
             [
              0.1111111111111111,
              "#46039f"
             ],
             [
              0.2222222222222222,
              "#7201a8"
             ],
             [
              0.3333333333333333,
              "#9c179e"
             ],
             [
              0.4444444444444444,
              "#bd3786"
             ],
             [
              0.5555555555555556,
              "#d8576b"
             ],
             [
              0.6666666666666666,
              "#ed7953"
             ],
             [
              0.7777777777777778,
              "#fb9f3a"
             ],
             [
              0.8888888888888888,
              "#fdca26"
             ],
             [
              1,
              "#f0f921"
             ]
            ],
            "type": "histogram2d"
           }
          ],
          "histogram2dcontour": [
           {
            "colorbar": {
             "outlinewidth": 0,
             "ticks": ""
            },
            "colorscale": [
             [
              0,
              "#0d0887"
             ],
             [
              0.1111111111111111,
              "#46039f"
             ],
             [
              0.2222222222222222,
              "#7201a8"
             ],
             [
              0.3333333333333333,
              "#9c179e"
             ],
             [
              0.4444444444444444,
              "#bd3786"
             ],
             [
              0.5555555555555556,
              "#d8576b"
             ],
             [
              0.6666666666666666,
              "#ed7953"
             ],
             [
              0.7777777777777778,
              "#fb9f3a"
             ],
             [
              0.8888888888888888,
              "#fdca26"
             ],
             [
              1,
              "#f0f921"
             ]
            ],
            "type": "histogram2dcontour"
           }
          ],
          "mesh3d": [
           {
            "colorbar": {
             "outlinewidth": 0,
             "ticks": ""
            },
            "type": "mesh3d"
           }
          ],
          "parcoords": [
           {
            "line": {
             "colorbar": {
              "outlinewidth": 0,
              "ticks": ""
             }
            },
            "type": "parcoords"
           }
          ],
          "pie": [
           {
            "automargin": true,
            "type": "pie"
           }
          ],
          "scatter": [
           {
            "fillpattern": {
             "fillmode": "overlay",
             "size": 10,
             "solidity": 0.2
            },
            "type": "scatter"
           }
          ],
          "scatter3d": [
           {
            "line": {
             "colorbar": {
              "outlinewidth": 0,
              "ticks": ""
             }
            },
            "marker": {
             "colorbar": {
              "outlinewidth": 0,
              "ticks": ""
             }
            },
            "type": "scatter3d"
           }
          ],
          "scattercarpet": [
           {
            "marker": {
             "colorbar": {
              "outlinewidth": 0,
              "ticks": ""
             }
            },
            "type": "scattercarpet"
           }
          ],
          "scattergeo": [
           {
            "marker": {
             "colorbar": {
              "outlinewidth": 0,
              "ticks": ""
             }
            },
            "type": "scattergeo"
           }
          ],
          "scattergl": [
           {
            "marker": {
             "colorbar": {
              "outlinewidth": 0,
              "ticks": ""
             }
            },
            "type": "scattergl"
           }
          ],
          "scattermapbox": [
           {
            "marker": {
             "colorbar": {
              "outlinewidth": 0,
              "ticks": ""
             }
            },
            "type": "scattermapbox"
           }
          ],
          "scatterpolar": [
           {
            "marker": {
             "colorbar": {
              "outlinewidth": 0,
              "ticks": ""
             }
            },
            "type": "scatterpolar"
           }
          ],
          "scatterpolargl": [
           {
            "marker": {
             "colorbar": {
              "outlinewidth": 0,
              "ticks": ""
             }
            },
            "type": "scatterpolargl"
           }
          ],
          "scatterternary": [
           {
            "marker": {
             "colorbar": {
              "outlinewidth": 0,
              "ticks": ""
             }
            },
            "type": "scatterternary"
           }
          ],
          "surface": [
           {
            "colorbar": {
             "outlinewidth": 0,
             "ticks": ""
            },
            "colorscale": [
             [
              0,
              "#0d0887"
             ],
             [
              0.1111111111111111,
              "#46039f"
             ],
             [
              0.2222222222222222,
              "#7201a8"
             ],
             [
              0.3333333333333333,
              "#9c179e"
             ],
             [
              0.4444444444444444,
              "#bd3786"
             ],
             [
              0.5555555555555556,
              "#d8576b"
             ],
             [
              0.6666666666666666,
              "#ed7953"
             ],
             [
              0.7777777777777778,
              "#fb9f3a"
             ],
             [
              0.8888888888888888,
              "#fdca26"
             ],
             [
              1,
              "#f0f921"
             ]
            ],
            "type": "surface"
           }
          ],
          "table": [
           {
            "cells": {
             "fill": {
              "color": "#EBF0F8"
             },
             "line": {
              "color": "white"
             }
            },
            "header": {
             "fill": {
              "color": "#C8D4E3"
             },
             "line": {
              "color": "white"
             }
            },
            "type": "table"
           }
          ]
         },
         "layout": {
          "annotationdefaults": {
           "arrowcolor": "#2a3f5f",
           "arrowhead": 0,
           "arrowwidth": 1
          },
          "autotypenumbers": "strict",
          "coloraxis": {
           "colorbar": {
            "outlinewidth": 0,
            "ticks": ""
           }
          },
          "colorscale": {
           "diverging": [
            [
             0,
             "#8e0152"
            ],
            [
             0.1,
             "#c51b7d"
            ],
            [
             0.2,
             "#de77ae"
            ],
            [
             0.3,
             "#f1b6da"
            ],
            [
             0.4,
             "#fde0ef"
            ],
            [
             0.5,
             "#f7f7f7"
            ],
            [
             0.6,
             "#e6f5d0"
            ],
            [
             0.7,
             "#b8e186"
            ],
            [
             0.8,
             "#7fbc41"
            ],
            [
             0.9,
             "#4d9221"
            ],
            [
             1,
             "#276419"
            ]
           ],
           "sequential": [
            [
             0,
             "#0d0887"
            ],
            [
             0.1111111111111111,
             "#46039f"
            ],
            [
             0.2222222222222222,
             "#7201a8"
            ],
            [
             0.3333333333333333,
             "#9c179e"
            ],
            [
             0.4444444444444444,
             "#bd3786"
            ],
            [
             0.5555555555555556,
             "#d8576b"
            ],
            [
             0.6666666666666666,
             "#ed7953"
            ],
            [
             0.7777777777777778,
             "#fb9f3a"
            ],
            [
             0.8888888888888888,
             "#fdca26"
            ],
            [
             1,
             "#f0f921"
            ]
           ],
           "sequentialminus": [
            [
             0,
             "#0d0887"
            ],
            [
             0.1111111111111111,
             "#46039f"
            ],
            [
             0.2222222222222222,
             "#7201a8"
            ],
            [
             0.3333333333333333,
             "#9c179e"
            ],
            [
             0.4444444444444444,
             "#bd3786"
            ],
            [
             0.5555555555555556,
             "#d8576b"
            ],
            [
             0.6666666666666666,
             "#ed7953"
            ],
            [
             0.7777777777777778,
             "#fb9f3a"
            ],
            [
             0.8888888888888888,
             "#fdca26"
            ],
            [
             1,
             "#f0f921"
            ]
           ]
          },
          "colorway": [
           "#636efa",
           "#EF553B",
           "#00cc96",
           "#ab63fa",
           "#FFA15A",
           "#19d3f3",
           "#FF6692",
           "#B6E880",
           "#FF97FF",
           "#FECB52"
          ],
          "font": {
           "color": "#2a3f5f"
          },
          "geo": {
           "bgcolor": "white",
           "lakecolor": "white",
           "landcolor": "#E5ECF6",
           "showlakes": true,
           "showland": true,
           "subunitcolor": "white"
          },
          "hoverlabel": {
           "align": "left"
          },
          "hovermode": "closest",
          "mapbox": {
           "style": "light"
          },
          "paper_bgcolor": "white",
          "plot_bgcolor": "#E5ECF6",
          "polar": {
           "angularaxis": {
            "gridcolor": "white",
            "linecolor": "white",
            "ticks": ""
           },
           "bgcolor": "#E5ECF6",
           "radialaxis": {
            "gridcolor": "white",
            "linecolor": "white",
            "ticks": ""
           }
          },
          "scene": {
           "xaxis": {
            "backgroundcolor": "#E5ECF6",
            "gridcolor": "white",
            "gridwidth": 2,
            "linecolor": "white",
            "showbackground": true,
            "ticks": "",
            "zerolinecolor": "white"
           },
           "yaxis": {
            "backgroundcolor": "#E5ECF6",
            "gridcolor": "white",
            "gridwidth": 2,
            "linecolor": "white",
            "showbackground": true,
            "ticks": "",
            "zerolinecolor": "white"
           },
           "zaxis": {
            "backgroundcolor": "#E5ECF6",
            "gridcolor": "white",
            "gridwidth": 2,
            "linecolor": "white",
            "showbackground": true,
            "ticks": "",
            "zerolinecolor": "white"
           }
          },
          "shapedefaults": {
           "line": {
            "color": "#2a3f5f"
           }
          },
          "ternary": {
           "aaxis": {
            "gridcolor": "white",
            "linecolor": "white",
            "ticks": ""
           },
           "baxis": {
            "gridcolor": "white",
            "linecolor": "white",
            "ticks": ""
           },
           "bgcolor": "#E5ECF6",
           "caxis": {
            "gridcolor": "white",
            "linecolor": "white",
            "ticks": ""
           }
          },
          "title": {
           "x": 0.05
          },
          "xaxis": {
           "automargin": true,
           "gridcolor": "white",
           "linecolor": "white",
           "ticks": "",
           "title": {
            "standoff": 15
           },
           "zerolinecolor": "white",
           "zerolinewidth": 2
          },
          "yaxis": {
           "automargin": true,
           "gridcolor": "white",
           "linecolor": "white",
           "ticks": "",
           "title": {
            "standoff": 15
           },
           "zerolinecolor": "white",
           "zerolinewidth": 2
          }
         }
        },
        "title": {
         "text": "Category-wise Distribution of Jewelry by Gender"
        }
       }
      }
     },
     "metadata": {},
     "output_type": "display_data"
    }
   ],
   "source": [
    "import plotly.graph_objects as go\n",
    "import plotly.express as px\n",
    "\n",
    "# Define the data\n",
    "categories = ['Rings', 'Earrings', 'Necklaces and Pendants', 'Bracelets']\n",
    "men_data = [total_sum_rings, total_sum_earrings, total_sum_necklace, total_sum_bracelet]\n",
    "women_data = [total_sum_ringsw, total_sum_earringsw, total_sum_necklacew, total_sum_braceletw]\n",
    "\n",
    "# Create a single donut chart\n",
    "fig = go.Figure()\n",
    "\n",
    "# Add trace for men\n",
    "fig.add_trace(go.Pie(\n",
    "    labels=categories,\n",
    "    values=men_data,\n",
    "    hole=0.2,\n",
    "    name='Men',\n",
    "    marker=dict(colors=['#1f77b4', '#ff7f0e', '#2ca02c', '#d62728'], line=dict(color='black', width=1)),  # Blue, orange, green, red colors with black border\n",
    "    hoverinfo='label+percent+value+name',\n",
    "    textinfo='percent+label+value',\n",
    "))\n",
    "\n",
    "# Add trace for women\n",
    "fig.add_trace(go.Pie(\n",
    "    labels=categories,\n",
    "    values=women_data,\n",
    "    hole=0.6,\n",
    "    name='Women',\n",
    "    \n",
    "    marker=dict(colors=['#1f77b4', '#ff7f0e', '#2ca02c', '#d62728'], line=dict(color='black', width=1)),  # Blue, orange, green, red colors with black border\n",
    "    hoverinfo='label+percent+value+name',\n",
    "    textinfo='percent+label+value',\n",
    "))\n",
    "\n",
    "# Update layout\n",
    "fig.update_layout(\n",
    "    # title_text=\"\\n\",\n",
    "    title_text=\"Category-wise Distribution of Jewelry by Gender\",\n",
    "    legend=dict(title=dict(text='Gender')),  # Add legend title\n",
    "    margin=dict(l=20, r=20, t=10, b=20),  # Adjust margins to accommodate text\n",
    "    height=500,  # Increase chart height to provide more space for text\n",
    "    font=dict(size=12),  # Adjust font size\n",
    ")\n",
    "\n",
    "# Show the plot\n",
    "fig.show()\n"
   ]
  },
  {
   "cell_type": "code",
   "execution_count": 13,
   "metadata": {},
   "outputs": [
    {
     "data": {
      "application/vnd.plotly.v1+json": {
       "config": {
        "plotlyServerURL": "https://plot.ly"
       },
       "data": [
        {
         "hole": 0.2,
         "hoverinfo": "label+percent+value+name",
         "hovertemplate": "<b>%{label}</b><br><br>Value: %{value}<br>Percentage: %{percent}<extra></extra>",
         "insidetextorientation": "radial",
         "labels": [
          "Rings",
          "Earrings",
          "Necklaces and Pendants",
          "Bracelets"
         ],
         "marker": {
          "colors": [
           "#57B3CF",
           "#3986A6",
           "#2C5484",
           "#1D3663"
          ],
          "line": {
           "color": "black",
           "width": 1
          }
         },
         "name": "Men",
         "textinfo": "percent+label+value",
         "type": "pie",
         "values": [
          2354,
          3405,
          2872,
          1210
         ]
        },
        {
         "hole": 0.6,
         "hoverinfo": "label+percent+value+name",
         "hovertemplate": "<b>%{label}</b><br><br>Value: %{value}<br>Percentage: %{percent}<extra></extra>",
         "labels": [
          "Rings",
          "Earrings",
          "Necklaces and Pendants",
          "Bracelets"
         ],
         "marker": {
          "colors": [
           "#57B3CF",
           "#3986A6",
           "#2C5484",
           "#1D3663"
          ],
          "line": {
           "color": "black",
           "width": 1
          }
         },
         "name": "Women",
         "textinfo": "percent+label+value",
         "type": "pie",
         "values": [
          10365,
          11023,
          2797,
          3297
         ]
        }
       ],
       "layout": {
        "font": {
         "size": 12
        },
        "height": 500,
        "legend": {
         "title": {
          "text": "Gender"
         }
        },
        "margin": {
         "b": 20,
         "l": 20,
         "r": 20,
         "t": 20
        },
        "template": {
         "data": {
          "bar": [
           {
            "error_x": {
             "color": "#2a3f5f"
            },
            "error_y": {
             "color": "#2a3f5f"
            },
            "marker": {
             "line": {
              "color": "#E5ECF6",
              "width": 0.5
             },
             "pattern": {
              "fillmode": "overlay",
              "size": 10,
              "solidity": 0.2
             }
            },
            "type": "bar"
           }
          ],
          "barpolar": [
           {
            "marker": {
             "line": {
              "color": "#E5ECF6",
              "width": 0.5
             },
             "pattern": {
              "fillmode": "overlay",
              "size": 10,
              "solidity": 0.2
             }
            },
            "type": "barpolar"
           }
          ],
          "carpet": [
           {
            "aaxis": {
             "endlinecolor": "#2a3f5f",
             "gridcolor": "white",
             "linecolor": "white",
             "minorgridcolor": "white",
             "startlinecolor": "#2a3f5f"
            },
            "baxis": {
             "endlinecolor": "#2a3f5f",
             "gridcolor": "white",
             "linecolor": "white",
             "minorgridcolor": "white",
             "startlinecolor": "#2a3f5f"
            },
            "type": "carpet"
           }
          ],
          "choropleth": [
           {
            "colorbar": {
             "outlinewidth": 0,
             "ticks": ""
            },
            "type": "choropleth"
           }
          ],
          "contour": [
           {
            "colorbar": {
             "outlinewidth": 0,
             "ticks": ""
            },
            "colorscale": [
             [
              0,
              "#0d0887"
             ],
             [
              0.1111111111111111,
              "#46039f"
             ],
             [
              0.2222222222222222,
              "#7201a8"
             ],
             [
              0.3333333333333333,
              "#9c179e"
             ],
             [
              0.4444444444444444,
              "#bd3786"
             ],
             [
              0.5555555555555556,
              "#d8576b"
             ],
             [
              0.6666666666666666,
              "#ed7953"
             ],
             [
              0.7777777777777778,
              "#fb9f3a"
             ],
             [
              0.8888888888888888,
              "#fdca26"
             ],
             [
              1,
              "#f0f921"
             ]
            ],
            "type": "contour"
           }
          ],
          "contourcarpet": [
           {
            "colorbar": {
             "outlinewidth": 0,
             "ticks": ""
            },
            "type": "contourcarpet"
           }
          ],
          "heatmap": [
           {
            "colorbar": {
             "outlinewidth": 0,
             "ticks": ""
            },
            "colorscale": [
             [
              0,
              "#0d0887"
             ],
             [
              0.1111111111111111,
              "#46039f"
             ],
             [
              0.2222222222222222,
              "#7201a8"
             ],
             [
              0.3333333333333333,
              "#9c179e"
             ],
             [
              0.4444444444444444,
              "#bd3786"
             ],
             [
              0.5555555555555556,
              "#d8576b"
             ],
             [
              0.6666666666666666,
              "#ed7953"
             ],
             [
              0.7777777777777778,
              "#fb9f3a"
             ],
             [
              0.8888888888888888,
              "#fdca26"
             ],
             [
              1,
              "#f0f921"
             ]
            ],
            "type": "heatmap"
           }
          ],
          "heatmapgl": [
           {
            "colorbar": {
             "outlinewidth": 0,
             "ticks": ""
            },
            "colorscale": [
             [
              0,
              "#0d0887"
             ],
             [
              0.1111111111111111,
              "#46039f"
             ],
             [
              0.2222222222222222,
              "#7201a8"
             ],
             [
              0.3333333333333333,
              "#9c179e"
             ],
             [
              0.4444444444444444,
              "#bd3786"
             ],
             [
              0.5555555555555556,
              "#d8576b"
             ],
             [
              0.6666666666666666,
              "#ed7953"
             ],
             [
              0.7777777777777778,
              "#fb9f3a"
             ],
             [
              0.8888888888888888,
              "#fdca26"
             ],
             [
              1,
              "#f0f921"
             ]
            ],
            "type": "heatmapgl"
           }
          ],
          "histogram": [
           {
            "marker": {
             "pattern": {
              "fillmode": "overlay",
              "size": 10,
              "solidity": 0.2
             }
            },
            "type": "histogram"
           }
          ],
          "histogram2d": [
           {
            "colorbar": {
             "outlinewidth": 0,
             "ticks": ""
            },
            "colorscale": [
             [
              0,
              "#0d0887"
             ],
             [
              0.1111111111111111,
              "#46039f"
             ],
             [
              0.2222222222222222,
              "#7201a8"
             ],
             [
              0.3333333333333333,
              "#9c179e"
             ],
             [
              0.4444444444444444,
              "#bd3786"
             ],
             [
              0.5555555555555556,
              "#d8576b"
             ],
             [
              0.6666666666666666,
              "#ed7953"
             ],
             [
              0.7777777777777778,
              "#fb9f3a"
             ],
             [
              0.8888888888888888,
              "#fdca26"
             ],
             [
              1,
              "#f0f921"
             ]
            ],
            "type": "histogram2d"
           }
          ],
          "histogram2dcontour": [
           {
            "colorbar": {
             "outlinewidth": 0,
             "ticks": ""
            },
            "colorscale": [
             [
              0,
              "#0d0887"
             ],
             [
              0.1111111111111111,
              "#46039f"
             ],
             [
              0.2222222222222222,
              "#7201a8"
             ],
             [
              0.3333333333333333,
              "#9c179e"
             ],
             [
              0.4444444444444444,
              "#bd3786"
             ],
             [
              0.5555555555555556,
              "#d8576b"
             ],
             [
              0.6666666666666666,
              "#ed7953"
             ],
             [
              0.7777777777777778,
              "#fb9f3a"
             ],
             [
              0.8888888888888888,
              "#fdca26"
             ],
             [
              1,
              "#f0f921"
             ]
            ],
            "type": "histogram2dcontour"
           }
          ],
          "mesh3d": [
           {
            "colorbar": {
             "outlinewidth": 0,
             "ticks": ""
            },
            "type": "mesh3d"
           }
          ],
          "parcoords": [
           {
            "line": {
             "colorbar": {
              "outlinewidth": 0,
              "ticks": ""
             }
            },
            "type": "parcoords"
           }
          ],
          "pie": [
           {
            "automargin": true,
            "type": "pie"
           }
          ],
          "scatter": [
           {
            "fillpattern": {
             "fillmode": "overlay",
             "size": 10,
             "solidity": 0.2
            },
            "type": "scatter"
           }
          ],
          "scatter3d": [
           {
            "line": {
             "colorbar": {
              "outlinewidth": 0,
              "ticks": ""
             }
            },
            "marker": {
             "colorbar": {
              "outlinewidth": 0,
              "ticks": ""
             }
            },
            "type": "scatter3d"
           }
          ],
          "scattercarpet": [
           {
            "marker": {
             "colorbar": {
              "outlinewidth": 0,
              "ticks": ""
             }
            },
            "type": "scattercarpet"
           }
          ],
          "scattergeo": [
           {
            "marker": {
             "colorbar": {
              "outlinewidth": 0,
              "ticks": ""
             }
            },
            "type": "scattergeo"
           }
          ],
          "scattergl": [
           {
            "marker": {
             "colorbar": {
              "outlinewidth": 0,
              "ticks": ""
             }
            },
            "type": "scattergl"
           }
          ],
          "scattermapbox": [
           {
            "marker": {
             "colorbar": {
              "outlinewidth": 0,
              "ticks": ""
             }
            },
            "type": "scattermapbox"
           }
          ],
          "scatterpolar": [
           {
            "marker": {
             "colorbar": {
              "outlinewidth": 0,
              "ticks": ""
             }
            },
            "type": "scatterpolar"
           }
          ],
          "scatterpolargl": [
           {
            "marker": {
             "colorbar": {
              "outlinewidth": 0,
              "ticks": ""
             }
            },
            "type": "scatterpolargl"
           }
          ],
          "scatterternary": [
           {
            "marker": {
             "colorbar": {
              "outlinewidth": 0,
              "ticks": ""
             }
            },
            "type": "scatterternary"
           }
          ],
          "surface": [
           {
            "colorbar": {
             "outlinewidth": 0,
             "ticks": ""
            },
            "colorscale": [
             [
              0,
              "#0d0887"
             ],
             [
              0.1111111111111111,
              "#46039f"
             ],
             [
              0.2222222222222222,
              "#7201a8"
             ],
             [
              0.3333333333333333,
              "#9c179e"
             ],
             [
              0.4444444444444444,
              "#bd3786"
             ],
             [
              0.5555555555555556,
              "#d8576b"
             ],
             [
              0.6666666666666666,
              "#ed7953"
             ],
             [
              0.7777777777777778,
              "#fb9f3a"
             ],
             [
              0.8888888888888888,
              "#fdca26"
             ],
             [
              1,
              "#f0f921"
             ]
            ],
            "type": "surface"
           }
          ],
          "table": [
           {
            "cells": {
             "fill": {
              "color": "#EBF0F8"
             },
             "line": {
              "color": "white"
             }
            },
            "header": {
             "fill": {
              "color": "#C8D4E3"
             },
             "line": {
              "color": "white"
             }
            },
            "type": "table"
           }
          ]
         },
         "layout": {
          "annotationdefaults": {
           "arrowcolor": "#2a3f5f",
           "arrowhead": 0,
           "arrowwidth": 1
          },
          "autotypenumbers": "strict",
          "coloraxis": {
           "colorbar": {
            "outlinewidth": 0,
            "ticks": ""
           }
          },
          "colorscale": {
           "diverging": [
            [
             0,
             "#8e0152"
            ],
            [
             0.1,
             "#c51b7d"
            ],
            [
             0.2,
             "#de77ae"
            ],
            [
             0.3,
             "#f1b6da"
            ],
            [
             0.4,
             "#fde0ef"
            ],
            [
             0.5,
             "#f7f7f7"
            ],
            [
             0.6,
             "#e6f5d0"
            ],
            [
             0.7,
             "#b8e186"
            ],
            [
             0.8,
             "#7fbc41"
            ],
            [
             0.9,
             "#4d9221"
            ],
            [
             1,
             "#276419"
            ]
           ],
           "sequential": [
            [
             0,
             "#0d0887"
            ],
            [
             0.1111111111111111,
             "#46039f"
            ],
            [
             0.2222222222222222,
             "#7201a8"
            ],
            [
             0.3333333333333333,
             "#9c179e"
            ],
            [
             0.4444444444444444,
             "#bd3786"
            ],
            [
             0.5555555555555556,
             "#d8576b"
            ],
            [
             0.6666666666666666,
             "#ed7953"
            ],
            [
             0.7777777777777778,
             "#fb9f3a"
            ],
            [
             0.8888888888888888,
             "#fdca26"
            ],
            [
             1,
             "#f0f921"
            ]
           ],
           "sequentialminus": [
            [
             0,
             "#0d0887"
            ],
            [
             0.1111111111111111,
             "#46039f"
            ],
            [
             0.2222222222222222,
             "#7201a8"
            ],
            [
             0.3333333333333333,
             "#9c179e"
            ],
            [
             0.4444444444444444,
             "#bd3786"
            ],
            [
             0.5555555555555556,
             "#d8576b"
            ],
            [
             0.6666666666666666,
             "#ed7953"
            ],
            [
             0.7777777777777778,
             "#fb9f3a"
            ],
            [
             0.8888888888888888,
             "#fdca26"
            ],
            [
             1,
             "#f0f921"
            ]
           ]
          },
          "colorway": [
           "#636efa",
           "#EF553B",
           "#00cc96",
           "#ab63fa",
           "#FFA15A",
           "#19d3f3",
           "#FF6692",
           "#B6E880",
           "#FF97FF",
           "#FECB52"
          ],
          "font": {
           "color": "#2a3f5f"
          },
          "geo": {
           "bgcolor": "white",
           "lakecolor": "white",
           "landcolor": "#E5ECF6",
           "showlakes": true,
           "showland": true,
           "subunitcolor": "white"
          },
          "hoverlabel": {
           "align": "left"
          },
          "hovermode": "closest",
          "mapbox": {
           "style": "light"
          },
          "paper_bgcolor": "white",
          "plot_bgcolor": "#E5ECF6",
          "polar": {
           "angularaxis": {
            "gridcolor": "white",
            "linecolor": "white",
            "ticks": ""
           },
           "bgcolor": "#E5ECF6",
           "radialaxis": {
            "gridcolor": "white",
            "linecolor": "white",
            "ticks": ""
           }
          },
          "scene": {
           "xaxis": {
            "backgroundcolor": "#E5ECF6",
            "gridcolor": "white",
            "gridwidth": 2,
            "linecolor": "white",
            "showbackground": true,
            "ticks": "",
            "zerolinecolor": "white"
           },
           "yaxis": {
            "backgroundcolor": "#E5ECF6",
            "gridcolor": "white",
            "gridwidth": 2,
            "linecolor": "white",
            "showbackground": true,
            "ticks": "",
            "zerolinecolor": "white"
           },
           "zaxis": {
            "backgroundcolor": "#E5ECF6",
            "gridcolor": "white",
            "gridwidth": 2,
            "linecolor": "white",
            "showbackground": true,
            "ticks": "",
            "zerolinecolor": "white"
           }
          },
          "shapedefaults": {
           "line": {
            "color": "#2a3f5f"
           }
          },
          "ternary": {
           "aaxis": {
            "gridcolor": "white",
            "linecolor": "white",
            "ticks": ""
           },
           "baxis": {
            "gridcolor": "white",
            "linecolor": "white",
            "ticks": ""
           },
           "bgcolor": "#E5ECF6",
           "caxis": {
            "gridcolor": "white",
            "linecolor": "white",
            "ticks": ""
           }
          },
          "title": {
           "x": 0.05
          },
          "xaxis": {
           "automargin": true,
           "gridcolor": "white",
           "linecolor": "white",
           "ticks": "",
           "title": {
            "standoff": 15
           },
           "zerolinecolor": "white",
           "zerolinewidth": 2
          },
          "yaxis": {
           "automargin": true,
           "gridcolor": "white",
           "linecolor": "white",
           "ticks": "",
           "title": {
            "standoff": 15
           },
           "zerolinecolor": "white",
           "zerolinewidth": 2
          }
         }
        },
        "title": {
         "text": "Category-wise Distribution of Jewelry by Gender",
         "x": 0.2,
         "y": 1
        },
        "uniformtext": {
         "minsize": 10,
         "mode": "hide"
        }
       }
      }
     },
     "metadata": {},
     "output_type": "display_data"
    }
   ],
   "source": [
    "import plotly.graph_objects as go\n",
    "\n",
    "# Define the data\n",
    "categories = ['Rings', 'Earrings', 'Necklaces and Pendants', 'Bracelets']\n",
    "men_data = [total_sum_rings, total_sum_earrings, total_sum_necklace, total_sum_bracelet]\n",
    "women_data = [total_sum_ringsw, total_sum_earringsw, total_sum_necklacew, total_sum_braceletw]\n",
    "\n",
    "# Create a single donut chart\n",
    "fig = go.Figure()\n",
    "\n",
    "# Add trace for men\n",
    "fig.add_trace(go.Pie(\n",
    "    labels=categories,\n",
    "    values=men_data,\n",
    "    hole=0.2,\n",
    "    name='Men',\n",
    "    marker=dict(colors=['#57B3CF', '#3986A6', '#2C5484', '#1D3663'], line=dict(color='black', width=1)),\n",
    "    hoverinfo='label+percent+value+name',\n",
    "    hovertemplate='<b>%{label}</b><br><br>Value: %{value}<br>Percentage: %{percent}<extra></extra>',\n",
    "    textinfo='percent+label+value',\n",
    "    insidetextorientation='radial',\n",
    "))\n",
    "\n",
    "# Add trace for women\n",
    "fig.add_trace(go.Pie(\n",
    "    labels=categories,\n",
    "    values=women_data,\n",
    "    hole=0.6,\n",
    "    name='Women',\n",
    "    marker=dict(colors=['#57B3CF', '#3986A6', '#2C5484', '#1D3663'], line=dict(color='black', width=1)),\n",
    "    hoverinfo='label+percent+value+name',\n",
    "    hovertemplate='<b>%{label}</b><br><br>Value: %{value}<br>Percentage: %{percent}<extra></extra>',\n",
    "    textinfo='percent+label+value',\n",
    "))\n",
    "\n",
    "# Update layout\n",
    "fig.update_layout(\n",
    "    title_text=\"Category-wise Distribution of Jewelry by Gender\",\n",
    "    title_x=0.2,\n",
    "    title_y=1,\n",
    "    legend=dict(title=dict(text='Gender')),\n",
    "    margin=dict(l=20, r=20, t=20, b=20),\n",
    "    height=500,\n",
    "    font=dict(size=12),\n",
    "    uniformtext_minsize=10,  # Adjust text size for consistency\n",
    "    uniformtext_mode='hide',\n",
    ")\n",
    "\n",
    "# Show the plot\n",
    "fig.show()\n"
   ]
  },
  {
   "cell_type": "code",
   "execution_count": null,
   "metadata": {},
   "outputs": [],
   "source": []
  },
  {
   "cell_type": "code",
   "execution_count": null,
   "metadata": {},
   "outputs": [],
   "source": []
  },
  {
   "cell_type": "code",
   "execution_count": null,
   "metadata": {},
   "outputs": [],
   "source": []
  },
  {
   "cell_type": "code",
   "execution_count": null,
   "metadata": {},
   "outputs": [],
   "source": []
  },
  {
   "cell_type": "code",
   "execution_count": null,
   "metadata": {},
   "outputs": [],
   "source": []
  }
 ],
 "metadata": {
  "kernelspec": {
   "display_name": "Python 3",
   "language": "python",
   "name": "python3"
  },
  "language_info": {
   "codemirror_mode": {
    "name": "ipython",
    "version": 3
   },
   "file_extension": ".py",
   "mimetype": "text/x-python",
   "name": "python",
   "nbconvert_exporter": "python",
   "pygments_lexer": "ipython3",
   "version": "3.11.9"
  }
 },
 "nbformat": 4,
 "nbformat_minor": 2
}
